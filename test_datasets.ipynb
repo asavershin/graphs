{
 "cells": [
  {
   "cell_type": "markdown",
   "metadata": {},
   "source": [
    "Запуск тестов для датасета"
   ]
  },
  {
   "cell_type": "code",
   "execution_count": 3,
   "metadata": {},
   "outputs": [],
   "source": [
    "from pushrelabel import PushRelabel\n",
    "from edmondkarp import edmonds_karp\n",
    "import time\n",
    "import os\n",
    "import gc"
   ]
  },
  {
   "cell_type": "code",
   "execution_count": 4,
   "metadata": {},
   "outputs": [],
   "source": [
    "name_push_relabel = \"push-relabel\"\n",
    "name_ek = \"edmond-karp\""
   ]
  },
  {
   "cell_type": "code",
   "execution_count": 5,
   "metadata": {},
   "outputs": [],
   "source": [
    "def read_graph_from_file(file_path):\n",
    "    graph = {}\n",
    "    with open(file_path, 'r') as file:\n",
    "        num_vertices, num_edges = map(int, file.readline().split())\n",
    "        for _ in range(num_edges):\n",
    "            u, v, capacity = map(int, file.readline().split())\n",
    "            if u not in graph:\n",
    "                graph[u] = {}\n",
    "            graph[u][v] = capacity\n",
    "            if v not in graph:\n",
    "                graph[v] = {}\n",
    "            if u not in graph[v]:\n",
    "                graph[v][u] = 0\n",
    "    return graph, num_vertices, num_edges"
   ]
  },
  {
   "cell_type": "code",
   "execution_count": 14,
   "metadata": {},
   "outputs": [],
   "source": [
    "def test_directory(directory_name: str):\n",
    "    for file in os.listdir(directory_name):\n",
    "        print(f\"Тест на файле {file}.\")\n",
    "        graph, num_vertices, num_edges = read_graph_from_file(directory_name + f'\\\\{file}')\n",
    "        graph1 = graph.copy()\n",
    "        gr = PushRelabel(G=graph.copy(), source=1, sink=num_vertices, num_vertices=num_vertices, num_edges=num_edges)\n",
    "        start_time = time.time()\n",
    "        result = gr.get_max_flow()        \n",
    "        end_time = time.time()\n",
    "        print(f\"Push-Relabel: {result}, время: {end_time - start_time}. \", end='')\n",
    "        start_time = time.time()\n",
    "        result = edmonds_karp(graph1, source=1, sink=num_vertices)\n",
    "        end_time = time.time()\n",
    "        print(f\"Edmonds-Karp: {result}, время: {end_time - start_time}\")\n",
    "        print('-------------------------')\n",
    "        gc.collect()\n",
    "        \n",
    "        "
   ]
  },
  {
   "cell_type": "code",
   "execution_count": 15,
   "metadata": {},
   "outputs": [
    {
     "name": "stdout",
     "output_type": "stream",
     "text": [
      "Тест на файле test_1.txt.\n",
      "Push-Relabel: 935, время: 0.0. Edmons-Karp: 0, время: 0.0\n",
      "-------------------------\n",
      "Тест на файле test_2.txt.\n",
      "Push-Relabel: 2789, время: 0.0. Edmons-Karp: 0, время: 0.0\n",
      "-------------------------\n",
      "Тест на файле test_3.txt.\n",
      "Push-Relabel: 2000000, время: 0.0. Edmons-Karp: 0, время: 0.0\n",
      "-------------------------\n",
      "Тест на файле test_4.txt.\n",
      "Push-Relabel: 23, время: 0.0. Edmons-Karp: 0, время: 0.0\n",
      "-------------------------\n",
      "Тест на файле test_5.txt.\n",
      "Push-Relabel: 256, время: 0.004004716873168945. Edmons-Karp: 0, время: 0.0\n",
      "-------------------------\n",
      "Тест на файле test_6.txt.\n",
      "Push-Relabel: 523, время: 0.0019817352294921875. Edmons-Karp: 0, время: 0.0\n",
      "-------------------------\n",
      "Тест на файле test_d1.txt.\n",
      "Push-Relabel: 171, время: 0.01801466941833496. Edmons-Karp: 0, время: 0.0\n",
      "-------------------------\n",
      "Тест на файле test_d2.txt.\n",
      "Push-Relabel: 8023, время: 0.00701594352722168. Edmons-Karp: 0, время: 0.0\n",
      "-------------------------\n",
      "Тест на файле test_d3.txt.\n",
      "Push-Relabel: 9078, время: 0.0630178451538086. Edmons-Karp: 0, время: 0.0\n",
      "-------------------------\n",
      "Тест на файле test_d4.txt.\n",
      "Push-Relabel: 9072, время: 0.08600473403930664. Edmons-Karp: 0, время: 0.0\n",
      "-------------------------\n",
      "Тест на файле test_d5.txt.\n",
      "Push-Relabel: 3278, время: 0.0. Edmons-Karp: 0, время: 0.0\n",
      "-------------------------\n",
      "Тест на файле test_rd01.txt.\n",
      "Push-Relabel: 24080, время: 0.0. Edmons-Karp: 0, время: 0.001003265380859375\n",
      "-------------------------\n",
      "Тест на файле test_rd02.txt.\n",
      "Push-Relabel: 37897, время: 0.001999378204345703. Edmons-Karp: 0, время: 0.0\n",
      "-------------------------\n",
      "Тест на файле test_rd03.txt.\n",
      "Push-Relabel: 68537, время: 0.041999101638793945. Edmons-Karp: 0, время: 0.0\n",
      "-------------------------\n",
      "Тест на файле test_rd04.txt.\n",
      "Push-Relabel: 62599, время: 0.03899741172790527. Edmons-Karp: 0, время: 0.0\n",
      "-------------------------\n",
      "Тест на файле test_rd05.txt.\n",
      "Push-Relabel: 153728, время: 1.4796276092529297. "
     ]
    },
    {
     "ename": "KeyboardInterrupt",
     "evalue": "",
     "output_type": "error",
     "traceback": [
      "\u001b[1;31m---------------------------------------------------------------------------\u001b[0m",
      "\u001b[1;31mKeyboardInterrupt\u001b[0m                         Traceback (most recent call last)",
      "Cell \u001b[1;32mIn[15], line 1\u001b[0m\n\u001b[1;32m----> 1\u001b[0m \u001b[43mtest_directory\u001b[49m\u001b[43m(\u001b[49m\u001b[38;5;124;43m'\u001b[39;49m\u001b[38;5;124;43mmax-flow-datasets\u001b[39;49m\u001b[38;5;124;43m'\u001b[39;49m\u001b[43m)\u001b[49m\n",
      "Cell \u001b[1;32mIn[14], line 10\u001b[0m, in \u001b[0;36mtest_directory\u001b[1;34m(directory_name)\u001b[0m\n\u001b[0;32m      8\u001b[0m result \u001b[38;5;241m=\u001b[39m gr\u001b[38;5;241m.\u001b[39mget_max_flow()        \n\u001b[0;32m      9\u001b[0m end_time \u001b[38;5;241m=\u001b[39m time\u001b[38;5;241m.\u001b[39mtime()\n\u001b[1;32m---> 10\u001b[0m \u001b[38;5;28;43mprint\u001b[39;49m\u001b[43m(\u001b[49m\u001b[38;5;124;43mf\u001b[39;49m\u001b[38;5;124;43m\"\u001b[39;49m\u001b[38;5;124;43mPush-Relabel: \u001b[39;49m\u001b[38;5;132;43;01m{\u001b[39;49;00m\u001b[43mresult\u001b[49m\u001b[38;5;132;43;01m}\u001b[39;49;00m\u001b[38;5;124;43m, время: \u001b[39;49m\u001b[38;5;132;43;01m{\u001b[39;49;00m\u001b[43mend_time\u001b[49m\u001b[38;5;250;43m \u001b[39;49m\u001b[38;5;241;43m-\u001b[39;49m\u001b[38;5;250;43m \u001b[39;49m\u001b[43mstart_time\u001b[49m\u001b[38;5;132;43;01m}\u001b[39;49;00m\u001b[38;5;124;43m. \u001b[39;49m\u001b[38;5;124;43m\"\u001b[39;49m\u001b[43m,\u001b[49m\u001b[43m \u001b[49m\u001b[43mend\u001b[49m\u001b[38;5;241;43m=\u001b[39;49m\u001b[38;5;124;43m'\u001b[39;49m\u001b[38;5;124;43m'\u001b[39;49m\u001b[43m)\u001b[49m\n\u001b[0;32m     11\u001b[0m start_time \u001b[38;5;241m=\u001b[39m time\u001b[38;5;241m.\u001b[39mtime()\n\u001b[0;32m     12\u001b[0m result \u001b[38;5;241m=\u001b[39m edmonds_karp(graph1, source\u001b[38;5;241m=\u001b[39m\u001b[38;5;241m1\u001b[39m, sink\u001b[38;5;241m=\u001b[39mnum_vertices)\n",
      "File \u001b[1;32mc:\\Users\\rocke\\AppData\\Local\\Programs\\Python\\Python310\\lib\\site-packages\\ipykernel\\iostream.py:573\u001b[0m, in \u001b[0;36mOutStream.write\u001b[1;34m(self, string)\u001b[0m\n\u001b[0;32m    571\u001b[0m         \u001b[38;5;28mself\u001b[39m\u001b[38;5;241m.\u001b[39mpub_thread\u001b[38;5;241m.\u001b[39mschedule(\u001b[38;5;28mself\u001b[39m\u001b[38;5;241m.\u001b[39m_flush)\n\u001b[0;32m    572\u001b[0m     \u001b[38;5;28;01melse\u001b[39;00m:\n\u001b[1;32m--> 573\u001b[0m         \u001b[38;5;28;43mself\u001b[39;49m\u001b[38;5;241;43m.\u001b[39;49m\u001b[43m_schedule_flush\u001b[49m\u001b[43m(\u001b[49m\u001b[43m)\u001b[49m\n\u001b[0;32m    575\u001b[0m \u001b[38;5;28;01mreturn\u001b[39;00m \u001b[38;5;28mlen\u001b[39m(string)\n",
      "File \u001b[1;32mc:\\Users\\rocke\\AppData\\Local\\Programs\\Python\\Python310\\lib\\site-packages\\ipykernel\\iostream.py:478\u001b[0m, in \u001b[0;36mOutStream._schedule_flush\u001b[1;34m(self)\u001b[0m\n\u001b[0;32m    475\u001b[0m \u001b[38;5;28;01mdef\u001b[39;00m \u001b[38;5;21m_schedule_in_thread\u001b[39m():\n\u001b[0;32m    476\u001b[0m     \u001b[38;5;28mself\u001b[39m\u001b[38;5;241m.\u001b[39m_io_loop\u001b[38;5;241m.\u001b[39mcall_later(\u001b[38;5;28mself\u001b[39m\u001b[38;5;241m.\u001b[39mflush_interval, \u001b[38;5;28mself\u001b[39m\u001b[38;5;241m.\u001b[39m_flush)\n\u001b[1;32m--> 478\u001b[0m \u001b[38;5;28;43mself\u001b[39;49m\u001b[38;5;241;43m.\u001b[39;49m\u001b[43mpub_thread\u001b[49m\u001b[38;5;241;43m.\u001b[39;49m\u001b[43mschedule\u001b[49m\u001b[43m(\u001b[49m\u001b[43m_schedule_in_thread\u001b[49m\u001b[43m)\u001b[49m\n",
      "File \u001b[1;32mc:\\Users\\rocke\\AppData\\Local\\Programs\\Python\\Python310\\lib\\site-packages\\ipykernel\\iostream.py:211\u001b[0m, in \u001b[0;36mIOPubThread.schedule\u001b[1;34m(self, f)\u001b[0m\n\u001b[0;32m    209\u001b[0m     \u001b[38;5;28mself\u001b[39m\u001b[38;5;241m.\u001b[39m_events\u001b[38;5;241m.\u001b[39mappend(f)\n\u001b[0;32m    210\u001b[0m     \u001b[38;5;66;03m# wake event thread (message content is ignored)\u001b[39;00m\n\u001b[1;32m--> 211\u001b[0m     \u001b[38;5;28;43mself\u001b[39;49m\u001b[38;5;241;43m.\u001b[39;49m\u001b[43m_event_pipe\u001b[49m\u001b[38;5;241;43m.\u001b[39;49m\u001b[43msend\u001b[49m\u001b[43m(\u001b[49m\u001b[38;5;124;43mb\u001b[39;49m\u001b[38;5;124;43m\"\u001b[39;49m\u001b[38;5;124;43m\"\u001b[39;49m\u001b[43m)\u001b[49m\n\u001b[0;32m    212\u001b[0m \u001b[38;5;28;01melse\u001b[39;00m:\n\u001b[0;32m    213\u001b[0m     f()\n",
      "File \u001b[1;32mc:\\Users\\rocke\\AppData\\Local\\Programs\\Python\\Python310\\lib\\site-packages\\zmq\\sugar\\socket.py:688\u001b[0m, in \u001b[0;36mSocket.send\u001b[1;34m(self, data, flags, copy, track, routing_id, group)\u001b[0m\n\u001b[0;32m    681\u001b[0m         data \u001b[38;5;241m=\u001b[39m zmq\u001b[38;5;241m.\u001b[39mFrame(\n\u001b[0;32m    682\u001b[0m             data,\n\u001b[0;32m    683\u001b[0m             track\u001b[38;5;241m=\u001b[39mtrack,\n\u001b[0;32m    684\u001b[0m             copy\u001b[38;5;241m=\u001b[39mcopy \u001b[38;5;129;01mor\u001b[39;00m \u001b[38;5;28;01mNone\u001b[39;00m,\n\u001b[0;32m    685\u001b[0m             copy_threshold\u001b[38;5;241m=\u001b[39m\u001b[38;5;28mself\u001b[39m\u001b[38;5;241m.\u001b[39mcopy_threshold,\n\u001b[0;32m    686\u001b[0m         )\n\u001b[0;32m    687\u001b[0m     data\u001b[38;5;241m.\u001b[39mgroup \u001b[38;5;241m=\u001b[39m group\n\u001b[1;32m--> 688\u001b[0m \u001b[38;5;28;01mreturn\u001b[39;00m \u001b[38;5;28;43msuper\u001b[39;49m\u001b[43m(\u001b[49m\u001b[43m)\u001b[49m\u001b[38;5;241;43m.\u001b[39;49m\u001b[43msend\u001b[49m\u001b[43m(\u001b[49m\u001b[43mdata\u001b[49m\u001b[43m,\u001b[49m\u001b[43m \u001b[49m\u001b[43mflags\u001b[49m\u001b[38;5;241;43m=\u001b[39;49m\u001b[43mflags\u001b[49m\u001b[43m,\u001b[49m\u001b[43m \u001b[49m\u001b[43mcopy\u001b[49m\u001b[38;5;241;43m=\u001b[39;49m\u001b[43mcopy\u001b[49m\u001b[43m,\u001b[49m\u001b[43m \u001b[49m\u001b[43mtrack\u001b[49m\u001b[38;5;241;43m=\u001b[39;49m\u001b[43mtrack\u001b[49m\u001b[43m)\u001b[49m\n",
      "File \u001b[1;32mzmq\\backend\\cython\\socket.pyx:742\u001b[0m, in \u001b[0;36mzmq.backend.cython.socket.Socket.send\u001b[1;34m()\u001b[0m\n",
      "File \u001b[1;32mzmq\\backend\\cython\\socket.pyx:789\u001b[0m, in \u001b[0;36mzmq.backend.cython.socket.Socket.send\u001b[1;34m()\u001b[0m\n",
      "File \u001b[1;32mzmq\\backend\\cython\\socket.pyx:250\u001b[0m, in \u001b[0;36mzmq.backend.cython.socket._send_copy\u001b[1;34m()\u001b[0m\n",
      "File \u001b[1;32mc:\\Users\\rocke\\AppData\\Local\\Programs\\Python\\Python310\\lib\\site-packages\\zmq\\backend\\cython\\checkrc.pxd:13\u001b[0m, in \u001b[0;36mzmq.backend.cython.checkrc._check_rc\u001b[1;34m()\u001b[0m\n",
      "\u001b[1;31mKeyboardInterrupt\u001b[0m: "
     ]
    }
   ],
   "source": [
    "test_directory('max-flow-datasets')"
   ]
  }
 ],
 "metadata": {
  "kernelspec": {
   "display_name": "Python 3",
   "language": "python",
   "name": "python3"
  },
  "language_info": {
   "codemirror_mode": {
    "name": "ipython",
    "version": 3
   },
   "file_extension": ".py",
   "mimetype": "text/x-python",
   "name": "python",
   "nbconvert_exporter": "python",
   "pygments_lexer": "ipython3",
   "version": "3.12.0"
  }
 },
 "nbformat": 4,
 "nbformat_minor": 2
}
