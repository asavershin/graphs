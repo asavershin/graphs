{
 "cells": [
  {
   "cell_type": "markdown",
   "metadata": {},
   "source": [
    "Запуск тестов для датасета"
   ]
  },
  {
   "cell_type": "code",
   "execution_count": 28,
   "metadata": {},
   "outputs": [],
   "source": [
    "from pushrelabel import PushRelabel\n",
    "from edmondkarp import edmonds_karp\n",
    "import time\n",
    "import os\n",
    "import gc"
   ]
  },
  {
   "cell_type": "code",
   "execution_count": 29,
   "metadata": {},
   "outputs": [],
   "source": [
    "name_push_relabel = \"push-relabel\"\n",
    "name_ek = \"edmond-karp\""
   ]
  },
  {
   "cell_type": "code",
   "execution_count": 30,
   "metadata": {},
   "outputs": [],
   "source": [
    "def read_graph_from_file(file_path):\n",
    "    graph = {}\n",
    "    with open(file_path, 'r') as file:\n",
    "        num_vertices, num_edges = map(int, file.readline().split())\n",
    "        for _ in range(num_edges):\n",
    "            u, v, capacity = map(int, file.readline().split())\n",
    "            if u not in graph:\n",
    "                graph[u] = {}\n",
    "            graph[u][v] = capacity\n",
    "            if v not in graph:\n",
    "                graph[v] = {}\n",
    "            if u not in graph[v]:\n",
    "                graph[v][u] = 0\n",
    "    return graph, num_vertices, num_edges"
   ]
  },
  {
   "cell_type": "code",
   "execution_count": 47,
   "metadata": {},
   "outputs": [],
   "source": [
    "def test_directory(directory_name: str):\n",
    "    for file in os.listdir(directory_name):\n",
    "        print(f\"Тест на файле {file}.\")\n",
    "        graph, num_vertices, num_edges = read_graph_from_file(directory_name + f'\\\\{file}')\n",
    "        graph1 = graph.copy()\n",
    "        gr = PushRelabel(G=graph.copy(), source=1, sink=num_vertices, num_vertices=num_vertices, num_edges=num_edges)\n",
    "        start_time = time.time()\n",
    "        result = gr.get_max_flow()        \n",
    "        end_time = time.time()\n",
    "        print(f\"Push-Кelabel: {result}, время: {end_time - start_time}\")\n",
    "        start_time = time.time()\n",
    "        result = edmonds_karp(graph1, source=1, sink=num_vertices)\n",
    "        end_time = time.time()\n",
    "        print(f\"Получены результаты: Эдмонс-Карпом {result} - время {end_time - start_time}, \", end='')\n",
    "        \n",
    "        "
   ]
  },
  {
   "cell_type": "code",
   "execution_count": 46,
   "metadata": {},
   "outputs": [
    {
     "name": "stdout",
     "output_type": "stream",
     "text": [
      "Тест на файле test_1.txt.\n",
      "Push-Кelabel: 935, время: 0.0\n",
      "Получены результаты: Эдмонс-Карпом 0 - время 0.0, Тест на файле test_2.txt.\n",
      "Push-Кelabel: 2789, время: 0.0\n",
      "Получены результаты: Эдмонс-Карпом 0 - время 0.0, Тест на файле test_3.txt.\n",
      "Push-Кelabel: 2000000, время: 0.0\n",
      "Получены результаты: Эдмонс-Карпом 0 - время 0.0, Тест на файле test_4.txt.\n",
      "Push-Кelabel: 23, время: 0.0\n",
      "Получены результаты: Эдмонс-Карпом 0 - время 0.0, Тест на файле test_5.txt.\n",
      "Push-Кelabel: 256, время: 0.0050067901611328125\n",
      "Получены результаты: Эдмонс-Карпом 0 - время 0.0, Тест на файле test_6.txt.\n",
      "Push-Кelabel: 523, время: 0.001001119613647461\n",
      "Получены результаты: Эдмонс-Карпом 0 - время 0.0, Тест на файле test_d1.txt.\n",
      "Push-Кelabel: 171, время: 0.018036365509033203\n",
      "Получены результаты: Эдмонс-Карпом 0 - время 0.0, Тест на файле test_d2.txt.\n",
      "Push-Кelabel: 8023, время: 0.007515668869018555\n",
      "Получены результаты: Эдмонс-Карпом 0 - время 0.0, Тест на файле test_d3.txt.\n",
      "Push-Кelabel: 9078, время: 0.08621025085449219\n",
      "Получены результаты: Эдмонс-Карпом 0 - время 0.0, Тест на файле test_d4.txt.\n",
      "Push-Кelabel: 9072, время: 0.10617947578430176\n",
      "Получены результаты: Эдмонс-Карпом 0 - время 0.0, Тест на файле test_d5.txt.\n",
      "Push-Кelabel: 3278, время: 0.0\n",
      "Получены результаты: Эдмонс-Карпом 0 - время 0.0, Тест на файле test_rd01.txt.\n",
      "Push-Кelabel: 24080, время: 0.0\n",
      "Получены результаты: Эдмонс-Карпом 0 - время 0.0, Тест на файле test_rd02.txt.\n",
      "Push-Кelabel: 37897, время: 0.001998424530029297\n",
      "Получены результаты: Эдмонс-Карпом 0 - время 0.0, Тест на файле test_rd03.txt.\n",
      "Push-Кelabel: 68537, время: 0.056906938552856445\n",
      "Получены результаты: Эдмонс-Карпом 0 - время 0.0, Тест на файле test_rd04.txt.\n",
      "Push-Кelabel: 62599, время: 0.05162215232849121\n",
      "Получены результаты: Эдмонс-Карпом 0 - время 0.0, Тест на файле test_rd05.txt.\n",
      "Push-Кelabel: 153728, время: 1.8036718368530273\n",
      "Получены результаты: Эдмонс-Карпом 0 - время 0.0009996891021728516, Тест на файле test_rd06.txt.\n"
     ]
    },
    {
     "ename": "KeyboardInterrupt",
     "evalue": "",
     "output_type": "error",
     "traceback": [
      "\u001b[1;31m---------------------------------------------------------------------------\u001b[0m",
      "\u001b[1;31mKeyboardInterrupt\u001b[0m                         Traceback (most recent call last)",
      "Cell \u001b[1;32mIn[46], line 1\u001b[0m\n\u001b[1;32m----> 1\u001b[0m \u001b[43mtest_directory\u001b[49m\u001b[43m(\u001b[49m\u001b[38;5;124;43m'\u001b[39;49m\u001b[38;5;124;43mmax-flow-datasets\u001b[39;49m\u001b[38;5;124;43m'\u001b[39;49m\u001b[43m)\u001b[49m\n",
      "Cell \u001b[1;32mIn[45], line 8\u001b[0m, in \u001b[0;36mtest_directory\u001b[1;34m(directory_name)\u001b[0m\n\u001b[0;32m      6\u001b[0m gr \u001b[38;5;241m=\u001b[39m PushRelabel(G\u001b[38;5;241m=\u001b[39mgraph\u001b[38;5;241m.\u001b[39mcopy(), source\u001b[38;5;241m=\u001b[39m\u001b[38;5;241m1\u001b[39m, sink\u001b[38;5;241m=\u001b[39mnum_vertices, num_vertices\u001b[38;5;241m=\u001b[39mnum_vertices, num_edges\u001b[38;5;241m=\u001b[39mnum_edges)\n\u001b[0;32m      7\u001b[0m start_time \u001b[38;5;241m=\u001b[39m time\u001b[38;5;241m.\u001b[39mtime()\n\u001b[1;32m----> 8\u001b[0m result \u001b[38;5;241m=\u001b[39m \u001b[43mgr\u001b[49m\u001b[38;5;241;43m.\u001b[39;49m\u001b[43mget_max_flow\u001b[49m\u001b[43m(\u001b[49m\u001b[43m)\u001b[49m        \n\u001b[0;32m      9\u001b[0m end_time \u001b[38;5;241m=\u001b[39m time\u001b[38;5;241m.\u001b[39mtime()\n\u001b[0;32m     10\u001b[0m \u001b[38;5;28mprint\u001b[39m(\u001b[38;5;124mf\u001b[39m\u001b[38;5;124m\"\u001b[39m\u001b[38;5;124mPush-Кelabel: \u001b[39m\u001b[38;5;132;01m{\u001b[39;00mresult\u001b[38;5;132;01m}\u001b[39;00m\u001b[38;5;124m, время: \u001b[39m\u001b[38;5;132;01m{\u001b[39;00mend_time\u001b[38;5;250m \u001b[39m\u001b[38;5;241m-\u001b[39m\u001b[38;5;250m \u001b[39mstart_time\u001b[38;5;132;01m}\u001b[39;00m\u001b[38;5;124m\"\u001b[39m)\n",
      "File \u001b[1;32mg:\\graphs\\pushrelabel.py:134\u001b[0m, in \u001b[0;36mPushRelabel.get_max_flow\u001b[1;34m(self)\u001b[0m\n\u001b[0;32m    132\u001b[0m \u001b[38;5;28;01mif\u001b[39;00m vert \u001b[38;5;129;01mis\u001b[39;00m \u001b[38;5;28;01mNone\u001b[39;00m:\n\u001b[0;32m    133\u001b[0m     \u001b[38;5;28;01mbreak\u001b[39;00m\n\u001b[1;32m--> 134\u001b[0m \u001b[38;5;28;01mif\u001b[39;00m \u001b[38;5;129;01mnot\u001b[39;00m \u001b[38;5;28;43mself\u001b[39;49m\u001b[38;5;241;43m.\u001b[39;49m\u001b[43mpush\u001b[49m\u001b[43m(\u001b[49m\u001b[43mvert\u001b[49m\u001b[43m)\u001b[49m:\n\u001b[0;32m    135\u001b[0m     \u001b[38;5;28mself\u001b[39m\u001b[38;5;241m.\u001b[39mrelabel(vert)\n\u001b[0;32m    136\u001b[0m iteration \u001b[38;5;241m+\u001b[39m\u001b[38;5;241m=\u001b[39m \u001b[38;5;241m1\u001b[39m\n",
      "File \u001b[1;32mg:\\graphs\\pushrelabel.py:90\u001b[0m, in \u001b[0;36mPushRelabel.push\u001b[1;34m(self, vert)\u001b[0m\n\u001b[0;32m     87\u001b[0m \u001b[38;5;28;01mif\u001b[39;00m \u001b[38;5;28mself\u001b[39m\u001b[38;5;241m.\u001b[39mvertices[vert\u001b[38;5;241m.\u001b[39mindex]\u001b[38;5;241m.\u001b[39me_flow \u001b[38;5;241m<\u001b[39m\u001b[38;5;241m=\u001b[39m \u001b[38;5;241m0\u001b[39m:\n\u001b[0;32m     88\u001b[0m     \u001b[38;5;28;01mreturn\u001b[39;00m \u001b[38;5;28;01mTrue\u001b[39;00m\n\u001b[1;32m---> 90\u001b[0m \u001b[38;5;28;01mif\u001b[39;00m capacity \u001b[38;5;241m>\u001b[39m \u001b[38;5;241m0\u001b[39m \u001b[38;5;129;01mand\u001b[39;00m \u001b[38;5;28mself\u001b[39m\u001b[38;5;241m.\u001b[39mvertices[vert\u001b[38;5;241m.\u001b[39mindex]\u001b[38;5;241m.\u001b[39mh \u001b[38;5;241m>\u001b[39m \u001b[38;5;28mself\u001b[39m\u001b[38;5;241m.\u001b[39mvertices[key]\u001b[38;5;241m.\u001b[39mh:\n\u001b[0;32m     91\u001b[0m     flow \u001b[38;5;241m=\u001b[39m \u001b[38;5;28mmin\u001b[39m(\u001b[38;5;28mself\u001b[39m\u001b[38;5;241m.\u001b[39mvertices[vert\u001b[38;5;241m.\u001b[39mindex]\u001b[38;5;241m.\u001b[39me_flow, capacity)\n\u001b[0;32m     92\u001b[0m     \u001b[38;5;28mself\u001b[39m\u001b[38;5;241m.\u001b[39mgraph[vert\u001b[38;5;241m.\u001b[39mindex][key] \u001b[38;5;241m-\u001b[39m\u001b[38;5;241m=\u001b[39m flow\n",
      "\u001b[1;31mKeyboardInterrupt\u001b[0m: "
     ]
    }
   ],
   "source": [
    "test_directory('max-flow-datasets')"
   ]
  }
 ],
 "metadata": {
  "kernelspec": {
   "display_name": "Python 3",
   "language": "python",
   "name": "python3"
  },
  "language_info": {
   "codemirror_mode": {
    "name": "ipython",
    "version": 3
   },
   "file_extension": ".py",
   "mimetype": "text/x-python",
   "name": "python",
   "nbconvert_exporter": "python",
   "pygments_lexer": "ipython3",
   "version": "3.12.0"
  }
 },
 "nbformat": 4,
 "nbformat_minor": 2
}
