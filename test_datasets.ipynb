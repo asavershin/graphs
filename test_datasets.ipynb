{
 "cells": [
  {
   "cell_type": "markdown",
   "metadata": {},
   "source": [
    "Запуск тестов для датасета"
   ]
  },
  {
   "cell_type": "code",
   "execution_count": 1,
   "metadata": {},
   "outputs": [],
   "source": [
    "from pushrelabel import PushRelabel\n",
    "from edmondkarp import edmonds_karp\n",
    "import time\n",
    "import os\n",
    "import gc\n",
    "import copy"
   ]
  },
  {
   "cell_type": "code",
   "execution_count": 2,
   "metadata": {},
   "outputs": [],
   "source": [
    "name_push_relabel = \"push-relabel\"\n",
    "name_ek = \"edmond-karp\""
   ]
  },
  {
   "cell_type": "code",
   "execution_count": 3,
   "metadata": {},
   "outputs": [],
   "source": [
    "def read_graph_from_file(file_path):\n",
    "    graph = {}\n",
    "    with open(file_path, 'r') as file:\n",
    "        num_vertices, num_edges = map(int, file.readline().split())\n",
    "        for _ in range(num_edges):\n",
    "            u, v, capacity = map(int, file.readline().split())\n",
    "            if u not in graph:\n",
    "                graph[u] = {}\n",
    "            graph[u][v] = capacity\n",
    "            if v not in graph:\n",
    "                graph[v] = {}\n",
    "            if u not in graph[v]:\n",
    "                graph[v][u] = 0\n",
    "    return graph, num_vertices, num_edges"
   ]
  },
  {
   "cell_type": "code",
   "execution_count": 4,
   "metadata": {},
   "outputs": [],
   "source": [
    "def test_directory(directory_name: str):\n",
    "    for file in os.listdir(directory_name):\n",
    "        print(f\"Тест на файле {file}.\")\n",
    "        graph, num_vertices, num_edges = read_graph_from_file(directory_name + f'\\\\{file}')\n",
    "        graph1 = copy.deepcopy(graph)\n",
    "        gr = PushRelabel(G=graph.copy(), source=1, sink=num_vertices, num_vertices=num_vertices, num_edges=num_edges)\n",
    "        start_time = time.time()\n",
    "        result = gr.get_max_flow()        \n",
    "        end_time = time.time()\n",
    "        print(f\"Push-Relabel: {result}, время: {end_time - start_time}. \", end='')\n",
    "        start_time = time.time()\n",
    "        result = edmonds_karp(graph1, source=1, sink=num_vertices)\n",
    "        end_time = time.time()\n",
    "        print(f\"Edmonds-Karp: {result}, время: {end_time - start_time}\")\n",
    "        print('-------------------------')\n",
    "        gc.collect()\n",
    "        \n",
    "        "
   ]
  },
  {
   "cell_type": "code",
   "execution_count": 5,
   "metadata": {},
   "outputs": [
    {
     "name": "stdout",
     "output_type": "stream",
     "text": [
      "Тест на файле test_1.txt.\n",
      "Push-Relabel: 935, время: 0.0010089874267578125. Edmonds-Karp: 935, время: 0.0\n",
      "-------------------------\n",
      "Тест на файле test_2.txt.\n",
      "Push-Relabel: 2789, время: 0.001007080078125. Edmonds-Karp: 2789, время: 0.0055844783782958984\n",
      "-------------------------\n",
      "Тест на файле test_3.txt.\n",
      "Push-Relabel: 2000000, время: 0.0. Edmonds-Karp: 2000000, время: 0.0\n",
      "-------------------------\n",
      "Тест на файле test_4.txt.\n",
      "Push-Relabel: 23, время: 0.0. Edmonds-Karp: 23, время: 0.0\n",
      "-------------------------\n",
      "Тест на файле test_5.txt.\n",
      "Push-Relabel: 256, время: 0.03787517547607422. Edmonds-Karp: 256, время: 0.0\n",
      "-------------------------\n",
      "Тест на файле test_6.txt.\n",
      "Push-Relabel: 523, время: 0.023312091827392578. Edmonds-Karp: 523, время: 0.0010447502136230469\n",
      "-------------------------\n",
      "Тест на файле test_d1.txt.\n",
      "Push-Relabel: 171, время: 0.016623258590698242. Edmonds-Karp: 171, время: 0.03513765335083008\n",
      "-------------------------\n",
      "Тест на файле test_d2.txt.\n",
      "Push-Relabel: 8023, время: 0.0. Edmonds-Karp: 8023, время: 0.0\n",
      "-------------------------\n",
      "Тест на файле test_d3.txt.\n",
      "Push-Relabel: 9078, время: 0.019722700119018555. Edmonds-Karp: 9078, время: 0.0442965030670166\n",
      "-------------------------\n",
      "Тест на файле test_d4.txt.\n",
      "Push-Relabel: 9072, время: 0.012428760528564453. Edmonds-Karp: 9072, время: 0.1688370704650879\n",
      "-------------------------\n",
      "Тест на файле test_d5.txt.\n",
      "Push-Relabel: 3278, время: 0.0. Edmonds-Karp: 3278, время: 0.0\n",
      "-------------------------\n",
      "Тест на файле test_rd01.txt.\n",
      "Push-Relabel: 24080, время: 0.0. Edmonds-Karp: 24080, время: 0.0\n",
      "-------------------------\n",
      "Тест на файле test_rd02.txt.\n",
      "Push-Relabel: 37897, время: 0.011323928833007812. Edmonds-Karp: 37897, время: 0.0\n",
      "-------------------------\n",
      "Тест на файле test_rd03.txt.\n",
      "Push-Relabel: 68537, время: 0.07469034194946289. Edmonds-Karp: 68537, время: 0.004993438720703125\n",
      "-------------------------\n",
      "Тест на файле test_rd04.txt.\n",
      "Push-Relabel: 62599, время: 0.017383337020874023. Edmonds-Karp: 62599, время: 0.01618337631225586\n",
      "-------------------------\n",
      "Тест на файле test_rd05.txt.\n",
      "Push-Relabel: 153728, время: 0.34978389739990234. Edmonds-Karp: 153728, время: 0.09021592140197754\n",
      "-------------------------\n",
      "Тест на файле test_rd06.txt.\n",
      "Push-Relabel: 224507, время: 0.28952980041503906. Edmonds-Karp: 224507, время: 0.3193225860595703\n",
      "-------------------------\n",
      "Тест на файле test_rd07.txt.\n",
      "Push-Relabel: 730313, время: 63.59991431236267. Edmonds-Karp: 730313, время: 44.96033191680908\n",
      "-------------------------\n",
      "Тест на файле test_rl01.txt.\n",
      "Push-Relabel: 15966, время: 0.0. Edmonds-Karp: 15966, время: 0.0\n",
      "-------------------------\n",
      "Тест на файле test_rl02.txt.\n",
      "Push-Relabel: 36865, время: 0.0. Edmonds-Karp: 36865, время: 0.0\n",
      "-------------------------\n",
      "Тест на файле test_rl03.txt.\n",
      "Push-Relabel: 63681, время: 0.008142709732055664. Edmonds-Karp: 63681, время: 0.0\n",
      "-------------------------\n",
      "Тест на файле test_rl04.txt.\n",
      "Push-Relabel: 55434, время: 0.0. Edmonds-Karp: 55434, время: 0.005827426910400391\n",
      "-------------------------\n",
      "Тест на файле test_rl05.txt.\n",
      "Push-Relabel: 138688, время: 0.0. Edmonds-Karp: 138688, время: 0.08284306526184082\n",
      "-------------------------\n",
      "Тест на файле test_rl06.txt.\n",
      "Push-Relabel: 141131, время: 0.0. Edmonds-Karp: 141131, время: 0.08777976036071777\n",
      "-------------------------\n",
      "Тест на файле test_rl07.txt.\n",
      "Push-Relabel: 204082, время: 0.0. Edmonds-Karp: 204082, время: 0.3500392436981201\n",
      "-------------------------\n",
      "Тест на файле test_rl08.txt.\n",
      "Push-Relabel: 211102, время: 0.011586904525756836. Edmonds-Karp: 211102, время: 0.4714643955230713\n",
      "-------------------------\n",
      "Тест на файле test_rl09.txt.\n",
      "Push-Relabel: 218990, время: 0.0. Edmonds-Karp: 218990, время: 0.5830204486846924\n",
      "-------------------------\n",
      "Тест на файле test_rl10.txt.\n",
      "Push-Relabel: 482613, время: 0.013433218002319336. Edmonds-Karp: 482613, время: 16.49946165084839\n",
      "-------------------------\n"
     ]
    }
   ],
   "source": [
    "test_directory('max-flow-datasets')"
   ]
  }
 ],
 "metadata": {
  "kernelspec": {
   "display_name": "Python 3",
   "language": "python",
   "name": "python3"
  },
  "language_info": {
   "codemirror_mode": {
    "name": "ipython",
    "version": 3
   },
   "file_extension": ".py",
   "mimetype": "text/x-python",
   "name": "python",
   "nbconvert_exporter": "python",
   "pygments_lexer": "ipython3",
   "version": "3.10.14"
  }
 },
 "nbformat": 4,
 "nbformat_minor": 2
}
