{
 "cells": [
  {
   "cell_type": "code",
   "execution_count": 1,
   "metadata": {},
   "outputs": [],
   "source": [
    "import networkx as nx\n",
    "import random\n",
    "import copy"
   ]
  },
  {
   "cell_type": "code",
   "execution_count": 2,
   "metadata": {},
   "outputs": [],
   "source": [
    "def random_graph(n, m, U):\n",
    "    # Генерируем случайный граф на n вершинах с m рёбрами и пропускными способностями из интервала [1, U]\n",
    "    G = nx.gnm_random_graph(n, m)\n",
    "    graph = {}\n",
    "    graph[0] = {}\n",
    "    graph[n - 1] = {}\n",
    "    for u, v in G.edges():\n",
    "        capacity = random.randint(1, U)\n",
    "        if u not in graph:\n",
    "            graph[u] = {}\n",
    "        if v not in graph:\n",
    "            graph[v] = {}\n",
    "        if u not in graph[v]:\n",
    "            graph[v][u] = 0\n",
    "        graph[u][v] = capacity\n",
    "    return graph"
   ]
  },
  {
   "cell_type": "code",
   "execution_count": 3,
   "metadata": {},
   "outputs": [],
   "source": [
    "import time\n",
    "import gc\n",
    "from pushrelabel import *\n",
    "from edmondkarp import *\n",
    "\n",
    "# Общие данные для экспериментов\n",
    "number_of_experiments = 50\n",
    "U = [10, 10000]"
   ]
  },
  {
   "cell_type": "markdown",
   "metadata": {},
   "source": [
    "Проводились эксперименты со следующими параметрами:\n",
    "* $n=50$\n",
    "* $m \\in [245, 306, 408, 612, 1225]$\n",
    "* $u \\in [10, 1000]$"
   ]
  },
  {
   "cell_type": "code",
   "execution_count": 4,
   "metadata": {},
   "outputs": [
    {
     "name": "stdout",
     "output_type": "stream",
     "text": [
      "Эксперимент на наборе: 50, 245, 10\n",
      "||||||||||||||||||||||||||||||||||||||||||||||||||\n",
      "Эксперимент на наборе: 50, 245, 10000\n",
      "||||||||||||||||||||||||||||||||||||||||||||||||||\n",
      "Эксперимент на наборе: 50, 306, 10\n",
      "||||||||||||||||||||||||||||||||||||||||||||||||||\n",
      "Эксперимент на наборе: 50, 306, 10000\n",
      "||||||||||||||||||||||||||||||||||||||||||||||||||\n",
      "Эксперимент на наборе: 50, 408, 10\n",
      "||||||||||||||||||||||||||||||||||||||||||||||||||\n",
      "Эксперимент на наборе: 50, 408, 10000\n",
      "||||||||||||||||||||||||||||||||||||||||||||||||||\n",
      "Эксперимент на наборе: 50, 612, 10\n",
      "||||||||||||||||||||||||||||||||||||||||||||||||||\n",
      "Эксперимент на наборе: 50, 612, 10000\n",
      "||||||||||||||||||||||||||||||||||||||||||||||||||\n",
      "Эксперимент на наборе: 50, 1225, 10\n",
      "||||||||||||||||||||||||||||||||||||||||||||||||||\n",
      "Эксперимент на наборе: 50, 1225, 10000\n",
      "||||||||||||||||||||||||||||||||||||||||||||||||||\n"
     ]
    }
   ],
   "source": [
    "n_50 = 50\n",
    "m = [int(n_50 * (n_50 - 1) / i) for i in range(10, 1, -2)]\n",
    "\n",
    "test_50_pl = {(i_m, i_u): 0 for i_m in m for i_u in U}\n",
    "test_50_ek = {(i_m, i_u): 0 for i_m in m for i_u in U}\n",
    "\n",
    "# Открываем файлы для записи\n",
    "for i_m_50 in m:\n",
    "    for i_u_50 in U:\n",
    "        print(f\"Эксперимент на наборе: {n_50}, {i_m_50}, {i_u_50}\")\n",
    "        for _ in range(number_of_experiments):\n",
    "            print(\"|\", end='')\n",
    "\n",
    "            graph = random_graph(n_50, i_m_50, i_u_50)\n",
    "            graph1 = copy.deepcopy(graph)\n",
    "            \n",
    "            gc.collect()\n",
    "            start_time = time.time() * 1000\n",
    "            result = edmonds_karp(graph1, source=0, sink=n_50-1)\n",
    "            end_time = time.time() * 1000\n",
    "            test_50_ek[(i_m_50, i_u_50)] += end_time - start_time\n",
    "\n",
    "            gc.collect()\n",
    "            gr = PushRelabel(G=graph, source=0, sink=n_50-1, num_edges=n_50, num_vertices=i_m_50)\n",
    "            start_time = time.time() * 1000\n",
    "            gr.get_max_flow()\n",
    "            end_time = time.time() * 1000\n",
    "            test_50_pl[(i_m_50, i_u_50)] += end_time - start_time\n",
    "\n",
    "            \n",
    "        print()\n",
    "        test_50_pl[(i_m_50, i_u_50)] /= number_of_experiments\n",
    "        test_50_ek[(i_m_50, i_u_50)] /= number_of_experiments"
   ]
  },
  {
   "cell_type": "code",
   "execution_count": 5,
   "metadata": {},
   "outputs": [
    {
     "name": "stdout",
     "output_type": "stream",
     "text": [
      "PL: n = 50 m = 245 U = 10 среднее время выполнения: 7.882939453125\n",
      "EK: n = 50 m = 245 U = 10 среднее время выполнения: 0.797802734375\n",
      "PL: n = 50 m = 245 U = 10000 среднее время выполнения: 5.92064453125\n",
      "EK: n = 50 m = 245 U = 10000 среднее время выполнения: 0.0075927734375\n",
      "PL: n = 50 m = 306 U = 10 среднее время выполнения: 9.01490234375\n",
      "EK: n = 50 m = 306 U = 10 среднее время выполнения: 0.4081298828125\n",
      "PL: n = 50 m = 306 U = 10000 среднее время выполнения: 7.4146630859375\n",
      "EK: n = 50 m = 306 U = 10000 среднее время выполнения: 0.6292431640625\n",
      "PL: n = 50 m = 408 U = 10 среднее время выполнения: 9.977890625\n",
      "EK: n = 50 m = 408 U = 10 среднее время выполнения: 0.6427783203125\n",
      "PL: n = 50 m = 408 U = 10000 среднее время выполнения: 8.698994140625\n",
      "EK: n = 50 m = 408 U = 10000 среднее время выполнения: 1.2955712890625\n",
      "PL: n = 50 m = 612 U = 10 среднее время выполнения: 16.48689453125\n",
      "EK: n = 50 m = 612 U = 10 среднее время выполнения: 0.72732421875\n",
      "PL: n = 50 m = 612 U = 10000 среднее время выполнения: 18.1539990234375\n",
      "EK: n = 50 m = 612 U = 10000 среднее время выполнения: 1.4122509765625\n",
      "PL: n = 50 m = 1225 U = 10 среднее время выполнения: 44.82646484375\n",
      "EK: n = 50 m = 1225 U = 10 среднее время выполнения: 1.79326171875\n",
      "PL: n = 50 m = 1225 U = 10000 среднее время выполнения: 53.0186181640625\n",
      "EK: n = 50 m = 1225 U = 10000 среднее время выполнения: 2.339111328125\n"
     ]
    }
   ],
   "source": [
    "with open(\"test_results/test_50_pl.txt\", \"w\") as pl_results_file, open(\"test_results/test_50_ek.txt\", \"w\") as ek_results_file:\n",
    "    for key in test_50_pl:\n",
    "        print(\"PL:\", \"n =\", n_50, \"m =\", key[0], \"U =\", key[1], \"среднее время выполнения:\", test_50_pl[key])\n",
    "        print(\"EK:\", \"n =\", n_50, \"m =\", key[0], \"U =\", key[1], \"среднее время выполнения:\", test_50_ek[key])\n",
    "        pl_results_file.write(f\"{n_50} {key[0]} {key[1]} {test_50_pl[key]}\\n\")\n",
    "        ek_results_file.write(f\"{n_50} {key[0]} {key[1]} {test_50_ek[key]}\\n\")"
   ]
  },
  {
   "cell_type": "markdown",
   "metadata": {},
   "source": [
    "Проводились эксперименты со следующими параметрами:\n",
    "* $n=100$\n",
    "* $m \\in [990, 1237, 1650, 2475, 4950]$\n",
    "* $u \\in [10, 1000]$"
   ]
  },
  {
   "cell_type": "code",
   "execution_count": 6,
   "metadata": {},
   "outputs": [
    {
     "name": "stdout",
     "output_type": "stream",
     "text": [
      "Эксперимент на наборе: 100, 990, 10\n",
      "||||||||||||||||||||||||||||||||||||||||||||||||||\n",
      "Эксперимент на наборе: 100, 990, 10000\n",
      "||||||||||||||||||||||||||||||||||||||||||||||||||\n",
      "Эксперимент на наборе: 100, 1237, 10\n",
      "||||||||||||||||||||||||||||||||||||||||||||||||||\n",
      "Эксперимент на наборе: 100, 1237, 10000\n",
      "||||||||||||||||||||||||||||||||||||||||||||||||||\n",
      "Эксперимент на наборе: 100, 1650, 10\n",
      "||||||||||||||||||||||||||||||||||||||||||||||||||\n",
      "Эксперимент на наборе: 100, 1650, 10000\n",
      "||||||||||||||||||||||||||||||||||||||||||||||||||\n",
      "Эксперимент на наборе: 100, 2475, 10\n",
      "||||||||||||||||||||||||||||||||||||||||||||||||||\n",
      "Эксперимент на наборе: 100, 2475, 10000\n",
      "||||||||||||||||||||||||||||||||||||||||||||||||||\n",
      "Эксперимент на наборе: 100, 4950, 10\n",
      "||||||||||||||||||||||||||||||||||||||||||||||||||\n",
      "Эксперимент на наборе: 100, 4950, 10000\n",
      "||||||||||||||||||||||||||||||||||||||||||||||||||\n"
     ]
    }
   ],
   "source": [
    "n_100 = 100\n",
    "m = [int(n_100 * (n_100 - 1) / i) for i in range(10, 1, -2)]\n",
    "\n",
    "test_100_pl = {(i_m, i_u): 0 for i_m in m for i_u in U}\n",
    "test_100_ek = {(i_m, i_u): 0 for i_m in m for i_u in U}\n",
    "\n",
    "# Открываем файлы для записи\n",
    "for i_m_100 in m:\n",
    "    for i_u_100 in U:\n",
    "        print(f\"Эксперимент на наборе: {n_100}, {i_m_100}, {i_u_100}\")\n",
    "        for _ in range(number_of_experiments):\n",
    "            print(\"|\", end='')\n",
    "\n",
    "            graph = random_graph(n_100, i_m_100, i_u_100)\n",
    "            graph1 = copy.deepcopy(graph)\n",
    "            \n",
    "            gc.collect()\n",
    "            gr = PushRelabel(G=graph, source=0, sink=n_100 - 1, num_edges=n_100, num_vertices=i_m_100)\n",
    "            start_time = time.time() * 1000\n",
    "            gr.get_max_flow()\n",
    "            end_time = time.time() * 1000\n",
    "            test_100_pl[(i_m_100, i_u_100)] += end_time - start_time\n",
    "\n",
    "            gc.collect()\n",
    "            start_time = time.time() * 1000\n",
    "            result = edmonds_karp(graph1, source=0, sink=n_100-1)\n",
    "            end_time = time.time() * 1000\n",
    "            test_100_ek[(i_m_100, i_u_100)] += end_time - start_time\n",
    "            \n",
    "        print()\n",
    "        test_100_pl[(i_m_100, i_u_100)] /= number_of_experiments\n",
    "        test_100_ek[(i_m_100, i_u_100)] /= number_of_experiments"
   ]
  },
  {
   "cell_type": "code",
   "execution_count": 7,
   "metadata": {},
   "outputs": [
    {
     "name": "stdout",
     "output_type": "stream",
     "text": [
      "PL: n = 100 m = 990 U = 10 среднее время выполнения: 51.9616845703125\n",
      "EK: n = 100 m = 990 U = 10 среднее время выполнения: 0.8470556640625\n",
      "PL: n = 100 m = 990 U = 10000 среднее время выполнения: 41.54697265625\n",
      "EK: n = 100 m = 990 U = 10000 среднее время выполнения: 1.9330419921875\n",
      "PL: n = 100 m = 1237 U = 10 среднее время выполнения: 67.0739208984375\n",
      "EK: n = 100 m = 1237 U = 10 среднее время выполнения: 1.57705078125\n",
      "PL: n = 100 m = 1237 U = 10000 среднее время выполнения: 75.6952734375\n",
      "EK: n = 100 m = 1237 U = 10000 среднее время выполнения: 1.5469091796875\n",
      "PL: n = 100 m = 1650 U = 10 среднее время выполнения: 119.3336328125\n",
      "EK: n = 100 m = 1650 U = 10 среднее время выполнения: 2.119931640625\n",
      "PL: n = 100 m = 1650 U = 10000 среднее время выполнения: 116.6756640625\n",
      "EK: n = 100 m = 1650 U = 10000 среднее время выполнения: 1.9679150390625\n",
      "PL: n = 100 m = 2475 U = 10 среднее время выполнения: 258.486884765625\n",
      "EK: n = 100 m = 2475 U = 10 среднее время выполнения: 4.149111328125\n",
      "PL: n = 100 m = 2475 U = 10000 среднее время выполнения: 239.165869140625\n",
      "EK: n = 100 m = 2475 U = 10000 среднее время выполнения: 5.1945166015625\n",
      "PL: n = 100 m = 4950 U = 10 среднее время выполнения: 957.81125\n",
      "EK: n = 100 m = 4950 U = 10 среднее время выполнения: 14.615966796875\n",
      "PL: n = 100 m = 4950 U = 10000 среднее время выполнения: 824.30353515625\n",
      "EK: n = 100 m = 4950 U = 10000 среднее время выполнения: 16.2579443359375\n"
     ]
    }
   ],
   "source": [
    "with open(\"test_results/test_100_pl.txt\", \"w\") as pl_results_file, open(\"test_results/test_100_ek.txt\", \"w\") as ek_results_file:\n",
    "    for key in test_100_pl:\n",
    "        print(\"PL:\", \"n =\", n_100, \"m =\", key[0], \"U =\", key[1], \"среднее время выполнения:\", test_100_pl[key])\n",
    "        print(\"EK:\", \"n =\", n_100, \"m =\", key[0], \"U =\", key[1], \"среднее время выполнения:\", test_100_ek[key])\n",
    "        pl_results_file.write(f\"{n_100} {key[0]} {key[1]} {test_100_pl[key]}\\n\")\n",
    "        ek_results_file.write(f\"{n_100} {key[0]} {key[1]} {test_100_ek[key]}\\n\")"
   ]
  },
  {
   "cell_type": "markdown",
   "metadata": {},
   "source": [
    "Проводились эксперименты со следующими параметрами:\n",
    "* $n=200$\n",
    "* $m \\in [3980, 4975, 6633, 9950, 19900]$\n",
    "* $u \\in [10, 1000]$"
   ]
  },
  {
   "cell_type": "code",
   "execution_count": 8,
   "metadata": {},
   "outputs": [
    {
     "name": "stdout",
     "output_type": "stream",
     "text": [
      "Эксперимент на наборе: 200, 3980, 10\n",
      "||||||||||||||||||||||||||||||||||||||||||||||||||\n",
      "Эксперимент на наборе: 200, 3980, 10000\n",
      "||||||||||||||||||||||||||||||||||||||||||||||||||\n",
      "Эксперимент на наборе: 200, 4975, 10\n",
      "||||||||||||||||||||||||||||||||||||||||||||||||||\n",
      "Эксперимент на наборе: 200, 4975, 10000\n",
      "||||||||||||||||||||||||||||||||||||||||||||||||||\n",
      "Эксперимент на наборе: 200, 6633, 10\n",
      "||||||||||||||||||||||||||||||||||||||||||||||||||\n",
      "Эксперимент на наборе: 200, 6633, 10000\n",
      "||||||||||||||||||||||||||||||||||||||||||||||||||\n",
      "Эксперимент на наборе: 200, 9950, 10\n",
      "||||||||||||||||||||||||||||||||||||||||||||||||||\n",
      "Эксперимент на наборе: 200, 9950, 10000\n",
      "||||||||||||||||||||||||||||||||||||||||||||||||||\n",
      "Эксперимент на наборе: 200, 19900, 10\n",
      "||||||||||||||||||||||||||||||||||||||||||||||||||\n",
      "Эксперимент на наборе: 200, 19900, 10000\n",
      "||||||||||||||||||||||||||||||||||||||||||||||||||\n"
     ]
    }
   ],
   "source": [
    "n_200 = 200\n",
    "m = [int(n_200 * (n_200 - 1) / i) for i in range(10, 1, -2)]\n",
    "\n",
    "test_200_pl = {(i_m, i_u): 0 for i_m in m for i_u in U}\n",
    "test_200_ek = {(i_m, i_u): 0 for i_m in m for i_u in U}\n",
    "\n",
    "# Открываем файлы для записи\n",
    "for i_m_200 in m:\n",
    "    for i_u_200 in U:\n",
    "        print(f\"Эксперимент на наборе: {n_200}, {i_m_200}, {i_u_200}\")\n",
    "        for _ in range(number_of_experiments):\n",
    "            print(\"|\", end='')\n",
    "\n",
    "            graph = random_graph(n_200, i_m_200, i_u_200)\n",
    "            graph1 = copy.deepcopy(graph)\n",
    "            \n",
    "            gc.collect()\n",
    "            gr = PushRelabel(G=graph, source=0, sink=n_200 - 1, num_edges=n_200, num_vertices=i_m_200)\n",
    "            start_time = time.time() * 1000\n",
    "            gr.get_max_flow()\n",
    "            end_time = time.time() * 1000\n",
    "            test_200_pl[(i_m_200, i_u_200)] += end_time - start_time\n",
    "\n",
    "            gc.collect()\n",
    "            start_time = time.time() * 1000\n",
    "            result = edmonds_karp(graph1, source=0, sink=n_200-1)\n",
    "            end_time = time.time() * 1000\n",
    "            test_200_ek[(i_m_200, i_u_200)] += end_time - start_time\n",
    "            \n",
    "        print()\n",
    "        test_200_pl[(i_m_200, i_u_200)] /= number_of_experiments\n",
    "        test_200_ek[(i_m_200, i_u_200)] /= number_of_experiments"
   ]
  },
  {
   "cell_type": "code",
   "execution_count": 9,
   "metadata": {},
   "outputs": [
    {
     "name": "stdout",
     "output_type": "stream",
     "text": [
      "PL: n = 200 m = 3980 U = 10 среднее время выполнения: 766.310126953125\n",
      "EK: n = 200 m = 3980 U = 10 среднее время выполнения: 7.355439453125\n",
      "PL: n = 200 m = 3980 U = 10000 среднее время выполнения: 821.6302490234375\n",
      "EK: n = 200 m = 3980 U = 10000 среднее время выполнения: 6.462392578125\n",
      "PL: n = 200 m = 4975 U = 10 среднее время выполнения: 1169.7439453125\n",
      "EK: n = 200 m = 4975 U = 10 среднее время выполнения: 9.715439453125\n",
      "PL: n = 200 m = 4975 U = 10000 среднее время выполнения: 1198.4563671875\n",
      "EK: n = 200 m = 4975 U = 10000 среднее время выполнения: 9.9893994140625\n",
      "PL: n = 200 m = 6633 U = 10 среднее время выполнения: 2051.9333349609374\n",
      "EK: n = 200 m = 6633 U = 10 среднее время выполнения: 15.9397265625\n",
      "PL: n = 200 m = 6633 U = 10000 среднее время выполнения: 1938.3858447265625\n",
      "EK: n = 200 m = 6633 U = 10000 среднее время выполнения: 19.959921875\n",
      "PL: n = 200 m = 9950 U = 10 среднее время выполнения: 4233.418955078125\n",
      "EK: n = 200 m = 9950 U = 10 среднее время выполнения: 34.2853125\n",
      "PL: n = 200 m = 9950 U = 10000 среднее время выполнения: 9747.496455078124\n",
      "EK: n = 200 m = 9950 U = 10000 среднее время выполнения: 99.257744140625\n",
      "PL: n = 200 m = 19900 U = 10 среднее время выполнения: 15012.559106445313\n",
      "EK: n = 200 m = 19900 U = 10 среднее время выполнения: 107.3279443359375\n",
      "PL: n = 200 m = 19900 U = 10000 среднее время выполнения: 18121.209995117188\n",
      "EK: n = 200 m = 19900 U = 10000 среднее время выполнения: 172.3806298828125\n"
     ]
    }
   ],
   "source": [
    "with open(\"test_results/test_200_pl.txt\", \"w\") as pl_results_file, open(\"test_results/test_200_ek.txt\", \"w\") as ek_results_file:\n",
    "    for key in test_200_pl:\n",
    "        print(\"PL:\", \"n =\", n_200, \"m =\", key[0], \"U =\", key[1], \"среднее время выполнения:\", test_200_pl[key])\n",
    "        print(\"EK:\", \"n =\", n_200, \"m =\", key[0], \"U =\", key[1], \"среднее время выполнения:\", test_200_ek[key])\n",
    "        pl_results_file.write(f\"{n_200} {key[0]} {key[1]} {test_200_pl[key]}\\n\")\n",
    "        ek_results_file.write(f\"{n_200} {key[0]} {key[1]} {test_200_ek[key]}\\n\")"
   ]
  },
  {
   "cell_type": "markdown",
   "metadata": {},
   "source": [
    "Проводились эксперименты со следующими параметрами:\n",
    "* $n=400$\n",
    "* $m \\in [13300]$\n",
    "* $u \\in [10, 1000]$"
   ]
  },
  {
   "cell_type": "code",
   "execution_count": 10,
   "metadata": {},
   "outputs": [
    {
     "name": "stdout",
     "output_type": "stream",
     "text": [
      "Эксперимент на наборе: 400, 13300, 10\n",
      "||||||||||||||||||||||||||||||||||||||||||||||||||\n",
      "Эксперимент на наборе: 400, 13300, 10000\n",
      "||||||||||||||||||||||||||||||||||||||||||||||||||\n"
     ]
    }
   ],
   "source": [
    "n_400 = 400\n",
    "m = [int(n_400 * (n_400 - 1) / i) for i in range(12, 11, -2)]\n",
    "\n",
    "test_400_pl = {(i_m, i_u): 0 for i_m in m for i_u in U}\n",
    "test_400_ek = {(i_m, i_u): 0 for i_m in m for i_u in U}\n",
    "\n",
    "# Открываем файлы для записи\n",
    "for i_m_400 in m:\n",
    "    for i_u_400 in U:\n",
    "        print(f\"Эксперимент на наборе: {n_400}, {i_m_400}, {i_u_400}\")\n",
    "        for _ in range(number_of_experiments):\n",
    "            print(\"|\", end='')\n",
    "\n",
    "            graph = random_graph(n_400, i_m_400, i_u_400)\n",
    "            graph1 = copy.deepcopy(graph)\n",
    "\n",
    "            gc.collect()\n",
    "            start_time = time.time() * 1000\n",
    "            result = edmonds_karp(graph1, source=0, sink=n_400 - 1)\n",
    "            end_time = time.time() * 1000\n",
    "            test_400_ek[(i_m_400, i_u_400)] += end_time - start_time\n",
    "\n",
    "            gc.collect()\n",
    "            gr = PushRelabel(G=graph, source=0, sink=n_400 - 1, num_edges=n_400, num_vertices=i_m_400)\n",
    "            start_time = time.time() * 1000\n",
    "            gr.get_max_flow()\n",
    "            end_time = time.time() * 1000\n",
    "            test_400_pl[(i_m_400, i_u_400)] += end_time - start_time\n",
    "\n",
    "        print()\n",
    "        test_400_pl[(i_m_400, i_u_400)] /= number_of_experiments\n",
    "        test_400_ek[(i_m_400, i_u_400)] /= number_of_experiments"
   ]
  },
  {
   "cell_type": "code",
   "execution_count": 11,
   "metadata": {},
   "outputs": [
    {
     "name": "stdout",
     "output_type": "stream",
     "text": [
      "PL: n = 400 m = 13300 U = 10 среднее время выполнения: 8227.085844726562\n",
      "EK: n = 400 m = 13300 U = 10 среднее время выполнения: 37.1674169921875\n",
      "PL: n = 400 m = 13300 U = 10000 среднее время выполнения: 7711.309301757812\n",
      "EK: n = 400 m = 13300 U = 10000 среднее время выполнения: 51.1358837890625\n"
     ]
    }
   ],
   "source": [
    "with open(\"test_results/test_400_pl.txt\", \"w\") as pl_results_file, open(\"test_results/test_400_ek.txt\", \"w\") as ek_results_file:\n",
    "    for key in test_400_pl:\n",
    "        print(\"PL:\", \"n =\", n_400, \"m =\", key[0], \"U =\", key[1], \"среднее время выполнения:\", test_400_pl[key])\n",
    "        print(\"EK:\", \"n =\", n_400, \"m =\", key[0], \"U =\", key[1], \"среднее время выполнения:\", test_400_ek[key])\n",
    "        pl_results_file.write(f\"{n_400} {key[0]} {key[1]} {test_400_pl[key]}\\n\")\n",
    "        ek_results_file.write(f\"{n_400} {key[0]} {key[1]} {test_400_ek[key]}\\n\")"
   ]
  }
 ],
 "metadata": {
  "kernelspec": {
   "display_name": "Python 3",
   "language": "python",
   "name": "python3"
  },
  "language_info": {
   "codemirror_mode": {
    "name": "ipython",
    "version": 3
   },
   "file_extension": ".py",
   "mimetype": "text/x-python",
   "name": "python",
   "nbconvert_exporter": "python",
   "pygments_lexer": "ipython3",
   "version": "3.10.14"
  }
 },
 "nbformat": 4,
 "nbformat_minor": 2
}
